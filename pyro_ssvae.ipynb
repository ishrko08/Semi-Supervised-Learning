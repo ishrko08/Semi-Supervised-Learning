{
 "cells": [
  {
   "cell_type": "code",
   "execution_count": 1,
   "id": "5053b8a5-8d31-41e1-9e31-5f361ce2ef69",
   "metadata": {
    "tags": []
   },
   "outputs": [],
   "source": [
    "import torch\n",
    "import torch.nn as nn\n",
    "import torch.nn.functional as F\n",
    "from torch.utils.data import DataLoader, random_split\n",
    "from torchvision import datasets, transforms\n",
    "import pyro\n",
    "import pyro.distributions as dist\n",
    "from pyro.infer import SVI, Trace_ELBO\n",
    "from pyro.optim import Adam"
   ]
  },
  {
   "cell_type": "code",
   "execution_count": 3,
   "id": "60f1d0af-1e57-4522-9e4d-328e902afbe9",
   "metadata": {
    "tags": []
   },
   "outputs": [],
   "source": [
    "def one_hot_encode(labels, output_size=10):\n",
    "    return torch.nn.functional.one_hot(labels, num_classes=output_size)\n",
    "\n",
    "# Binarize the MNIST dataset by thresholding at 0.5\n",
    "transform = transforms.Compose([\n",
    "    transforms.ToTensor(),transforms.Lambda(lambda x: (x > 0.5).float().view(-1))])\n",
    "\n",
    "train_dataset = datasets.MNIST(root='./data', train=True, transform=transform, download=True)\n",
    "test_dataset = datasets.MNIST(root='./data', train=False, transform=transform, download=True)\n",
    "\n",
    "labeled_size = int(0.1 * len(train_dataset))  # use 10% of the dataset for labels\n",
    "unlabeled_size = len(train_dataset) - labeled_size\n",
    "labeled_dataset, unlabeled_dataset = random_split(train_dataset, [labeled_size, unlabeled_size])\n",
    "\n",
    "labeled_loader = DataLoader(labeled_dataset, batch_size=128, shuffle=True)\n",
    "unlabeled_loader = DataLoader(unlabeled_dataset, batch_size=128, shuffle=True)\n",
    "test_loader = DataLoader(test_dataset, batch_size=128, shuffle=False)\n"
   ]
  },
  {
   "cell_type": "code",
   "execution_count": 4,
   "id": "44e99e66-8b62-450e-8eff-ec72bca0f05f",
   "metadata": {
    "tags": []
   },
   "outputs": [],
   "source": [
    "class Encoder_z(nn.Module):\n",
    "    def __init__(self, input_dim, hidden_dim, latent_dim):\n",
    "        super().__init__()\n",
    "        self.fc = nn.Sequential(\n",
    "            nn.Linear(input_dim, hidden_dim),\n",
    "            nn.ReLU(),\n",
    "            nn.Linear(hidden_dim, latent_dim * 2)\n",
    "        )\n",
    "        \n",
    "    def forward(self, x):\n",
    "        return self.fc(x)\n",
    "\n",
    "class Encoder_y(nn.Module):\n",
    "    def __init__(self, input_dim, hidden_dim, num_classes):\n",
    "        super().__init__()\n",
    "        self.fc = nn.Sequential(\n",
    "            nn.Linear(input_dim, hidden_dim),\n",
    "            nn.ReLU(),\n",
    "            nn.Linear(hidden_dim, num_classes),\n",
    "            nn.Softmax(dim=1) \n",
    "        )\n",
    "        \n",
    "    def forward(self, x):\n",
    "        return self.fc(x)\n",
    "\n",
    "class Decoder(nn.Module):\n",
    "    def __init__(self, latent_dim, num_classes, hidden_dim, output_dim):\n",
    "        super().__init__()\n",
    "        self.fc = nn.Sequential(\n",
    "            nn.Linear(latent_dim + num_classes, hidden_dim),\n",
    "            nn.ReLU(),\n",
    "            nn.Linear(hidden_dim, output_dim),\n",
    "            nn.Sigmoid()\n",
    "        )\n",
    "        \n",
    "    def forward(self, x):\n",
    "        return self.fc(x)"
   ]
  },
  {
   "cell_type": "code",
   "execution_count": 5,
   "id": "13181548-47ef-4e08-bb53-b47c40d12453",
   "metadata": {
    "tags": []
   },
   "outputs": [],
   "source": [
    "class SSVAE(nn.Module):\n",
    "    def __init__(self, input_size=784, hidden_size=256, z_dim=20, output_size=10):\n",
    "        super().__init__()\n",
    "        self.input_size = input_size\n",
    "        self.hidden_size = hidden_size\n",
    "        self.z_dim = z_dim\n",
    "        self.output_size = output_size\n",
    "        \n",
    "        self.encoder_z = Encoder_z(input_dim=input_size + output_size,\n",
    "                                   hidden_dim=hidden_size,\n",
    "                                   latent_dim=z_dim)\n",
    "        \n",
    "        self.encoder_y = Encoder_y(input_dim=input_size,\n",
    "                                   hidden_dim=hidden_size,\n",
    "                                   num_classes=output_size)\n",
    "        \n",
    "        self.decoder = Decoder(latent_dim=z_dim,\n",
    "                               num_classes=output_size,\n",
    "                               hidden_dim=hidden_size,\n",
    "                               output_dim=input_size)\n",
    "        \n",
    "        self.optimizer = Adam({\"lr\": 0.0001})\n",
    "        self.svi = SVI(self.model, self.guide, self.optimizer, loss=Trace_ELBO())\n",
    "\n",
    "    def model(self, xs, ys=None):\n",
    "        pyro.module(\"ss_vae\", self)\n",
    "        batch_size = xs.size(0)\n",
    "        with pyro.plate(\"data\", batch_size):\n",
    "            #Prior for z \n",
    "            prior_loc = xs.new_zeros([batch_size, self.z_dim])\n",
    "            prior_scale = xs.new_ones([batch_size, self.z_dim])\n",
    "            zs = pyro.sample(\"z\", dist.Normal(prior_loc, prior_scale).to_event(1))\n",
    "            \n",
    "            #Prior for y\n",
    "            alpha_prior = xs.new_ones([batch_size, self.output_size]) / self.output_size\n",
    "            ys = pyro.sample(\"y\", dist.OneHotCategorical(alpha_prior), obs=ys)\n",
    "            \n",
    "            #Decode: concatenate z and y to get x\n",
    "            x_input = torch.cat([zs, ys], dim=1)\n",
    "            loc = self.decoder(x_input)\n",
    "            pyro.sample(\"x\", dist.Bernoulli(loc).to_event(1), obs=xs)\n",
    "\n",
    "    def guide(self, xs, ys=None):\n",
    "        pyro.module(\"ss_vae\", self)\n",
    "        with pyro.plate(\"data\", xs.size(0)):\n",
    "            if ys is None:\n",
    "                # Infer y from x using encoder_y\n",
    "                alpha = self.encoder_y(xs)\n",
    "                ys = pyro.sample(\"y\", dist.OneHotCategorical(alpha))\n",
    "            # Concatenate x and y as input to encoder_z\n",
    "            combined_input = torch.cat([xs, ys], dim=1)\n",
    "            z_params = self.encoder_z(combined_input)\n",
    "            z_loc = z_params[:, :self.z_dim]\n",
    "            z_scale = F.softplus(z_params[:, self.z_dim:]) + 1e-6\n",
    "            pyro.sample(\"z\", dist.Normal(z_loc, z_scale).to_event(1))"
   ]
  },
  {
   "cell_type": "code",
   "execution_count": 6,
   "id": "c8d93876-2584-4034-b0e1-75f89a5baeef",
   "metadata": {
    "tags": []
   },
   "outputs": [
    {
     "name": "stdout",
     "output_type": "stream",
     "text": [
      "Epoch 1, Loss: 3125.6688\n",
      "Epoch 2, Loss: 2142.7943\n",
      "Epoch 3, Loss: 1878.8889\n",
      "Epoch 4, Loss: 1694.8022\n",
      "Epoch 5, Loss: 1587.9650\n"
     ]
    }
   ],
   "source": [
    "# Initialize the model\n",
    "ssvae = SSVAE(input_size=784, hidden_size=128, z_dim=10, output_size=10)\n",
    "num_epochs = 5\n",
    "\n",
    "for epoch in range(num_epochs):\n",
    "    ssvae.train()\n",
    "    total_loss = 0\n",
    "\n",
    "    # Training on labeled data\n",
    "    for x, y in labeled_loader:\n",
    "        x = x.view(-1, 784)\n",
    "        y = one_hot_encode(y, output_size=10)\n",
    "        loss = ssvae.svi.step(x, y)\n",
    "        total_loss += loss\n",
    "\n",
    "    # Training on unlabeled data\n",
    "    for x, _ in unlabeled_loader:\n",
    "        x = x.view(-1, 784)\n",
    "        loss = ssvae.svi.step(x)\n",
    "        total_loss += loss\n",
    "\n",
    "    print(f\"Epoch {epoch + 1}, Loss: {total_loss / len(labeled_loader.dataset):.4f}\")\n"
   ]
  },
  {
   "cell_type": "code",
   "execution_count": null,
   "id": "b7c4cfc5-d37d-484e-a450-25b560916acf",
   "metadata": {},
   "outputs": [],
   "source": []
  },
  {
   "cell_type": "code",
   "execution_count": null,
   "id": "eea46d1b-a841-4763-be30-97a27d792d0c",
   "metadata": {},
   "outputs": [],
   "source": []
  },
  {
   "cell_type": "code",
   "execution_count": null,
   "id": "518ac22c-b040-47e2-81e4-18663adfe50b",
   "metadata": {},
   "outputs": [],
   "source": []
  }
 ],
 "metadata": {
  "kernelspec": {
   "display_name": "Python 3 (ipykernel)",
   "language": "python",
   "name": "python3"
  },
  "language_info": {
   "codemirror_mode": {
    "name": "ipython",
    "version": 3
   },
   "file_extension": ".py",
   "mimetype": "text/x-python",
   "name": "python",
   "nbconvert_exporter": "python",
   "pygments_lexer": "ipython3",
   "version": "3.11.7"
  }
 },
 "nbformat": 4,
 "nbformat_minor": 5
}
