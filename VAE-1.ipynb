{
 "cells": [
  {
   "cell_type": "code",
   "execution_count": 77,
   "id": "f6fb0aa0",
   "metadata": {
    "tags": []
   },
   "outputs": [],
   "source": [
    "import torch \n",
    "import torch.nn as nn \n",
    "import torch.optim as optim \n",
    "from torchvision import datasets, transforms \n",
    "from torch.utils.data import DataLoader \n",
    "import matplotlib.pyplot as plt \n",
    "import numpy as np\n",
    "import torch.nn.functional as F"
   ]
  },
  {
   "cell_type": "markdown",
   "id": "43d88f16-bf5a-42c2-9d3d-f62f77d7e47e",
   "metadata": {},
   "source": [
    "## Traditional VAE"
   ]
  },
  {
   "cell_type": "code",
   "execution_count": 79,
   "id": "5567fe6b",
   "metadata": {},
   "outputs": [],
   "source": [
    "class VAE(nn.Module):\n",
    "    def __init__(self, input_dim, hidden_dim=64, latent_dim=2):\n",
    "        super().__init__()\n",
    "        \n",
    "        #encoder layers\n",
    "        self.enc_fc1 = nn.Linear(input_dim, hidden_dim)\n",
    "        self.enc_mu = nn.Linear(hidden_dim, latent_dim)\n",
    "        self.enc_logvar = nn.Linear(hidden_dim, latent_dim)\n",
    "        \n",
    "        #decoder layers\n",
    "        self.dec_fc1 = nn.Linear(latent_dim, hidden_dim)\n",
    "        self.dec_fc2 = nn.Linear(hidden_dim, input_dim)\n",
    "    \n",
    "    def encode(self, x):\n",
    "        h = torch.relu(self.enc_fc1(x))\n",
    "        mu = self.enc_mu(h)\n",
    "        logvar = self.enc_logvar(h)\n",
    "        return mu, logvar\n",
    "    \n",
    "    def decode(self, z):\n",
    "        h = torch.relu(self.dec_fc1(z))\n",
    "        x_hat = torch.sigmoid(self.dec_fc2(h))\n",
    "        return x_hat\n",
    "    \n",
    "    def forward(self, x):\n",
    "        mu, logvar = self.encode(x)\n",
    "        std = torch.exp(0.5*logvar)\n",
    "        epsilon = torch.randn_like(std)\n",
    "        z = mu + epsilon*std\n",
    "        x_hat = self.decode(z)\n",
    "        return x_hat, mu, logvar\n",
    "        \n",
    "    "
   ]
  },
  {
   "cell_type": "code",
   "execution_count": 81,
   "id": "a4fefd55-32c6-4574-99ee-36a3f341db99",
   "metadata": {
    "tags": []
   },
   "outputs": [
    {
     "data": {
      "text/plain": [
       "tensor(0)"
      ]
     },
     "execution_count": 81,
     "metadata": {},
     "output_type": "execute_result"
    }
   ],
   "source": [
    "torch.zeros_like(torch.tensor(3))"
   ]
  },
  {
   "cell_type": "code",
   "execution_count": 83,
   "id": "07ddff7e",
   "metadata": {},
   "outputs": [],
   "source": [
    "def loss_function(x, x_hat, mu, logvar):\n",
    "    recon_loss = nn.functional.binary_cross_entropy(x_hat, x, reduction='sum')\n",
    "    kld = -0.5 * torch.sum(1 + logvar - mu.pow(2) - logvar.exp())\n",
    "    loss = (recon_loss + kld) / x.size(0)\n",
    "    return loss"
   ]
  },
  {
   "cell_type": "code",
   "execution_count": 85,
   "id": "399e7563",
   "metadata": {},
   "outputs": [],
   "source": [
    "input_dim = 784\n",
    "hidden_dim = 128\n",
    "latent_dim = 16\n",
    "lr = 0.01\n",
    "batch_size = 128\n",
    "epochs = 10\n",
    "\n",
    "train_data = datasets.MNIST(\n",
    "    root='./data', \n",
    "    train=True, \n",
    "    transform=transforms.ToTensor(), \n",
    "    download=True)\n",
    "\n",
    "train_dataloader = DataLoader(\n",
    "    dataset=train_data,\n",
    "    batch_size=batch_size,\n",
    "    shuffle=True\n",
    ")"
   ]
  },
  {
   "cell_type": "code",
   "execution_count": 87,
   "id": "bf68e444",
   "metadata": {},
   "outputs": [],
   "source": [
    "image, label = train_data[1]"
   ]
  },
  {
   "cell_type": "code",
   "execution_count": 89,
   "id": "20cf81fe",
   "metadata": {},
   "outputs": [
    {
     "data": {
      "text/plain": [
       "torch.Size([1, 28, 28])"
      ]
     },
     "execution_count": 89,
     "metadata": {},
     "output_type": "execute_result"
    }
   ],
   "source": [
    "image.shape"
   ]
  },
  {
   "cell_type": "code",
   "execution_count": 91,
   "id": "11891335",
   "metadata": {},
   "outputs": [
    {
     "data": {
      "text/plain": [
       "<matplotlib.image.AxesImage at 0x2314d8bae10>"
      ]
     },
     "execution_count": 91,
     "metadata": {},
     "output_type": "execute_result"
    },
    {
     "data": {
      "image/png": "[encoded data removed]",
      "text/plain": [
       "<Figure size 640x480 with 1 Axes>"
      ]
     },
     "metadata": {},
     "output_type": "display_data"
    }
   ],
   "source": [
    "plt.imshow(image.squeeze(), cmap='gray') # squeeze removes the first dimension"
   ]
  },
  {
   "cell_type": "code",
   "execution_count": 93,
   "id": "8e1f3527",
   "metadata": {},
   "outputs": [],
   "source": [
    "vae = VAE(input_dim, hidden_dim, latent_dim)\n",
    "optimizer = optim.Adam(vae.parameters(), lr=lr)"
   ]
  },
  {
   "cell_type": "code",
   "execution_count": 11,
   "id": "7f41378e",
   "metadata": {},
   "outputs": [
    {
     "name": "stdout",
     "output_type": "stream",
     "text": [
      "Epoch 1, Loss: 1.1549253463745117\n",
      "Epoch 2, Loss: 0.9600387215614319\n",
      "Epoch 3, Loss: 0.9330597519874573\n",
      "Epoch 4, Loss: 0.9216527938842773\n",
      "Epoch 5, Loss: 0.9154216051101685\n",
      "Epoch 6, Loss: 0.9118248820304871\n",
      "Epoch 7, Loss: 0.9070477485656738\n",
      "Epoch 8, Loss: 0.9032031297683716\n",
      "Epoch 9, Loss: 0.901614785194397\n",
      "Epoch 10, Loss: 0.8995293974876404\n"
     ]
    }
   ],
   "source": [
    "#training \n",
    "for epoch in range(epochs):\n",
    "    train_loss = 0\n",
    "    for x, _ in train_dataloader:\n",
    "        x = x.view(-1, 28*28)\n",
    "        x_hat, mu, logvar = vae(x)\n",
    "        loss = loss_function(x, x_hat, mu, logvar)\n",
    "        train_loss += loss\n",
    "        optimizer.zero_grad()\n",
    "        loss.backward()\n",
    "        optimizer.step()\n",
    "        \n",
    "    print(f\"Epoch {epoch + 1}, Loss: {train_loss / len(train_dataloader.dataset)}\")"
   ]
  },
  {
   "cell_type": "code",
   "execution_count": 12,
   "id": "90dc7c7a",
   "metadata": {},
   "outputs": [
    {
     "data": {
      "text/plain": [
       "torch.Size([128, 1, 28, 28])"
      ]
     },
     "execution_count": 12,
     "metadata": {},
     "output_type": "execute_result"
    }
   ],
   "source": [
    "next(iter(train_dataloader))[0].shape"
   ]
  },
  {
   "cell_type": "code",
   "execution_count": 13,
   "id": "4d4f4e68",
   "metadata": {},
   "outputs": [
    {
     "data": {
      "image/png": "[encoded data removed]",
      "text/plain": [
       "<Figure size 1500x300 with 20 Axes>"
      ]
     },
     "metadata": {},
     "output_type": "display_data"
    }
   ],
   "source": [
    "#inference\n",
    "\n",
    "with torch.no_grad():\n",
    "    x, _ = next(iter(train_dataloader))\n",
    "    x = x.view(-1, input_dim)\n",
    "    x_hat, _, _ = vae(x)\n",
    "    x = x.view(-1, 28, 28)\n",
    "    x_hat = x_hat.view(-1, 28, 28)\n",
    "    \n",
    "    fig, axs = plt.subplots(2, 10, figsize=(15, 3))\n",
    "    for i in range(10):\n",
    "        axs[0, i].imshow(x[i].numpy(), cmap='gray')\n",
    "        axs[1, i].imshow(x_hat[i].numpy(), cmap='gray')\n",
    "        axs[0, i].axis('off')\n",
    "        axs[1, i].axis('off')\n",
    "    plt.show()"
   ]
  },
  {
   "cell_type": "code",
   "execution_count": 14,
   "id": "ced20534",
   "metadata": {},
   "outputs": [
    {
     "data": {
      "image/png": "[encoded data removed]",
      "text/plain": [
       "<Figure size 1500x300 with 10 Axes>"
      ]
     },
     "metadata": {},
     "output_type": "display_data"
    }
   ],
   "source": [
    "#generated samples\n",
    "with torch.no_grad():\n",
    "    z = torch.randn(10, latent_dim)\n",
    "    sample = vae.decode(z)\n",
    "    sample = sample.view(-1, 28, 28)\n",
    "    \n",
    "    fig, axs = plt.subplots(1, 10, figsize=(15, 3))\n",
    "    for i in range(10):\n",
    "        axs[i].imshow(sample[i].numpy(), cmap='gray')\n",
    "        axs[i].axis('off')\n",
    "    plt.show()"
   ]
  },
  {
   "cell_type": "code",
   "execution_count": null,
   "id": "5e69d9ec",
   "metadata": {},
   "outputs": [],
   "source": []
  },
  {
   "cell_type": "markdown",
   "id": "bbfdd9c5-cc10-457f-b137-ac32f66a8e76",
   "metadata": {},
   "source": [
    "## M2 VAE"
   ]
  },
  {
   "cell_type": "code",
   "execution_count": null,
   "id": "2098dec2-ff4b-4f80-b0d5-bbcf817f2bcd",
   "metadata": {},
   "outputs": [],
   "source": []
  },
  {
   "cell_type": "code",
   "execution_count": null,
   "id": "d5e33e3c-96a0-4860-a591-9d7538816701",
   "metadata": {},
   "outputs": [],
   "source": []
  },
  {
   "cell_type": "code",
   "execution_count": null,
   "id": "b36cf68f-0015-4ff9-8f80-a0665bf78935",
   "metadata": {},
   "outputs": [],
   "source": []
  },
  {
   "cell_type": "code",
   "execution_count": null,
   "id": "16e69f94-49ba-4f7c-914c-645a8dd78fa9",
   "metadata": {},
   "outputs": [],
   "source": []
  },
  {
   "cell_type": "code",
   "execution_count": null,
   "id": "83414e54-cb7a-4eb5-a21f-4da72d118a82",
   "metadata": {},
   "outputs": [],
   "source": []
  },
  {
   "cell_type": "code",
   "execution_count": null,
   "id": "22d5cc5f",
   "metadata": {},
   "outputs": [],
   "source": []
  }
 ],
 "metadata": {
  "kernelspec": {
   "display_name": "Python 3 (ipykernel)",
   "language": "python",
   "name": "python3"
  },
  "language_info": {
   "codemirror_mode": {
    "name": "ipython",
    "version": 3
   },
   "file_extension": ".py",
   "mimetype": "text/x-python",
   "name": "python",
   "nbconvert_exporter": "python",
   "pygments_lexer": "ipython3",
   "version": "3.11.7"
  }
 },
 "nbformat": 4,
 "nbformat_minor": 5
}
