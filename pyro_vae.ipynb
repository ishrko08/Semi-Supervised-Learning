{
 "cells": [
  {
   "cell_type": "code",
   "execution_count": 9,
   "id": "a0843f0a-3e2f-4d8b-bb38-cf6e6eeba45d",
   "metadata": {
    "tags": []
   },
   "outputs": [],
   "source": [
    "import torch\n",
    "import torch.nn as nn\n",
    "from torchvision import datasets, transforms\n",
    "from torch.utils.data import DataLoader\n",
    "import pyro\n",
    "import pyro.distributions as dist\n",
    "from pyro.infer import SVI, Trace_ELBO\n",
    "from pyro.optim import Adam"
   ]
  },
  {
   "cell_type": "code",
   "execution_count": 11,
   "id": "7f5bd6cc-74ce-4dd9-8205-859736aefb41",
   "metadata": {
    "tags": []
   },
   "outputs": [],
   "source": [
    "#Encoder\n",
    "class Encoder(nn.Module):\n",
    "    def __init__(self, z_dim, hidden_dim):\n",
    "        super().__init__()\n",
    "        self.fc1 = nn.Linear(784, hidden_dim)\n",
    "        self.fc21 = nn.Linear(hidden_dim, z_dim)  # Mean\n",
    "        self.fc22 = nn.Linear(hidden_dim, z_dim)  # Log variance\n",
    "\n",
    "    def forward(self, x):\n",
    "        hidden = torch.relu(self.fc1(x))\n",
    "        z_loc = self.fc21(hidden)\n",
    "        z_scale = torch.exp(0.5 * self.fc22(hidden))  # Convert to std dev\n",
    "        return z_loc, z_scale\n",
    "\n",
    "#Decoder\n",
    "class Decoder(nn.Module):\n",
    "    def __init__(self, z_dim, hidden_dim):\n",
    "        super().__init__()\n",
    "        self.fc1 = nn.Linear(z_dim, hidden_dim)\n",
    "        self.fc2 = nn.Linear(hidden_dim, 784)\n",
    "\n",
    "    def forward(self, z):\n",
    "        hidden = torch.relu(self.fc1(z))\n",
    "        loc_img = torch.sigmoid(self.fc2(hidden))  # Pixel probabilities\n",
    "        return loc_img"
   ]
  },
  {
   "cell_type": "code",
   "execution_count": 24,
   "id": "44068935-5d65-4c14-9091-3f08e0fa8388",
   "metadata": {
    "tags": []
   },
   "outputs": [],
   "source": [
    "class VAE(nn.Module):\n",
    "    def __init__(self, z_dim=20, hidden_dim=400):  \n",
    "        super().__init__()\n",
    "        self.encoder = Encoder(z_dim, hidden_dim)\n",
    "        self.decoder = Decoder(z_dim, hidden_dim)\n",
    "        self.z_dim = z_dim\n",
    "\n",
    "    def model(self, x):\n",
    "        pyro.module(\"decoder\", self.decoder)\n",
    "        with pyro.plate(\"data\", x.shape[0]):\n",
    "            # Prior distribution\n",
    "            z_loc = torch.zeros(x.shape[0], self.z_dim)\n",
    "            z_scale = torch.ones(x.shape[0], self.z_dim)\n",
    "            z = pyro.sample(\"latent\", dist.Normal(z_loc, z_scale).to_event(1))\n",
    "            \n",
    "            # Decode the latent variable z\n",
    "            loc_img = self.decoder(z)\n",
    "            \n",
    "            # Likelihood\n",
    "            pyro.sample(\"obs\", \n",
    "                       dist.Bernoulli(loc_img, validate_args=False).to_event(1),\n",
    "                       obs=x.reshape(-1, 784))\n",
    "\n",
    "    def guide(self, x):\n",
    "        pyro.module(\"encoder\", self.encoder)\n",
    "        with pyro.plate(\"data\", x.shape[0]):\n",
    "            z_loc, z_scale = self.encoder(x)\n",
    "            pyro.sample(\"latent\", dist.Normal(z_loc, z_scale).to_event(1))\n",
    "\n",
    "    def reconstruct_img(self, x):\n",
    "        with torch.no_grad():\n",
    "            z_loc, z_scale = self.encoder(x)\n",
    "            z = dist.Normal(z_loc, z_scale).sample()\n",
    "            return self.decoder(z)"
   ]
  },
  {
   "cell_type": "code",
   "execution_count": 28,
   "id": "14ca4c5e-b9f8-45d3-8536-ce3efd013b2d",
   "metadata": {
    "tags": []
   },
   "outputs": [
    {
     "name": "stdout",
     "output_type": "stream",
     "text": [
      "Epoch 1/20 \tLoss: 165.1059\n",
      "Epoch 2/20 \tLoss: 122.1062\n",
      "Epoch 3/20 \tLoss: 114.7257\n",
      "Epoch 4/20 \tLoss: 111.5740\n",
      "Epoch 5/20 \tLoss: 109.7311\n",
      "Epoch 6/20 \tLoss: 108.5243\n",
      "Epoch 7/20 \tLoss: 107.6778\n",
      "Epoch 8/20 \tLoss: 107.0245\n",
      "Epoch 9/20 \tLoss: 106.4881\n",
      "Epoch 10/20 \tLoss: 106.0681\n",
      "Epoch 11/20 \tLoss: 105.6996\n",
      "Epoch 12/20 \tLoss: 105.4235\n",
      "Epoch 13/20 \tLoss: 105.0980\n",
      "Epoch 14/20 \tLoss: 104.9285\n",
      "Epoch 15/20 \tLoss: 104.6689\n",
      "Epoch 16/20 \tLoss: 104.5083\n",
      "Epoch 17/20 \tLoss: 104.2893\n",
      "Epoch 18/20 \tLoss: 104.1419\n",
      "Epoch 19/20 \tLoss: 103.9752\n",
      "Epoch 20/20 \tLoss: 103.8649\n"
     ]
    }
   ],
   "source": [
    "#Hyperparameters\n",
    "lr = 0.001 \n",
    "batch_size = 128\n",
    "epochs = 20  \n",
    "z_dim = 20\n",
    "hidden_dim = 400\n",
    "\n",
    "#Load the data\n",
    "train_data = datasets.MNIST(\n",
    "    root='./data',\n",
    "    train=True,\n",
    "    transform=transforms.ToTensor(),\n",
    "    download=True\n",
    ")\n",
    "\n",
    "train_loader = DataLoader(\n",
    "    dataset=train_data,\n",
    "    batch_size=batch_size,\n",
    "    shuffle=True\n",
    ")\n",
    "\n",
    "# Model setup\n",
    "vae = VAE(z_dim=z_dim, hidden_dim=hidden_dim)\n",
    "optimizer = Adam({\"lr\": lr})\n",
    "svi = SVI(vae.model, vae.guide, optimizer, loss=Trace_ELBO())\n",
    "\n",
    "# Training loop\n",
    "for epoch in range(epochs):\n",
    "    epoch_loss = 0.0\n",
    "    for batch_idx, (data, _) in enumerate(train_loader):\n",
    "        data = data.view(-1, 784)\n",
    "        loss = svi.step(data)\n",
    "        epoch_loss += loss / len(data)\n",
    "        \n",
    "    print(f\"Epoch {epoch+1}/{epochs} \\tLoss: {epoch_loss/len(train_loader):.4f}\")"
   ]
  },
  {
   "cell_type": "code",
   "execution_count": 47,
   "id": "055ee9d1-f0c1-4a14-a367-0bf5e257b23b",
   "metadata": {
    "tags": []
   },
   "outputs": [],
   "source": [
    "#Reconstruction:\n",
    "test_sample = next(iter(train_loader))[0][0].view(1, 784)\n",
    "reconstructed = vae.reconstruct_img(test_sample)"
   ]
  },
  {
   "cell_type": "code",
   "execution_count": 49,
   "id": "d4fc3f4b-1489-419a-b389-4809f0f040e4",
   "metadata": {
    "tags": []
   },
   "outputs": [
    {
     "data": {
      "text/plain": [
       "torch.Size([1, 784])"
      ]
     },
     "execution_count": 49,
     "metadata": {},
     "output_type": "execute_result"
    }
   ],
   "source": [
    "reconstructed.shape"
   ]
  },
  {
   "cell_type": "code",
   "execution_count": 55,
   "id": "f8b71daa-ade4-4a2a-82ac-f5ab4dee9373",
   "metadata": {
    "tags": []
   },
   "outputs": [
    {
     "data": {
      "text/plain": [
       "torch.Size([1, 28, 28])"
      ]
     },
     "execution_count": 55,
     "metadata": {},
     "output_type": "execute_result"
    }
   ],
   "source": [
    "next(iter(train_loader))[0][0].shape"
   ]
  },
  {
   "cell_type": "code",
   "execution_count": 76,
   "id": "9e3d63ce-19d2-4e6b-8a7d-ad53a15723e8",
   "metadata": {
    "tags": []
   },
   "outputs": [
    {
     "data": {
      "text/plain": [
       "torch.Size([128, 1, 28, 28])"
      ]
     },
     "execution_count": 76,
     "metadata": {},
     "output_type": "execute_result"
    }
   ],
   "source": [
    "next(iter(train_loader))[0].shape"
   ]
  },
  {
   "cell_type": "code",
   "execution_count": 91,
   "id": "d355bca8-cb6a-4409-b614-7a04208f383b",
   "metadata": {
    "tags": []
   },
   "outputs": [
    {
     "data": {
      "image/png": "[encoded data removed]",
      "text/plain": [
       "<Figure size 1500x300 with 20 Axes>"
      ]
     },
     "metadata": {},
     "output_type": "display_data"
    }
   ],
   "source": [
    "import matplotlib.pyplot as plt\n",
    "\n",
    "with torch.no_grad():\n",
    "    data, _ = next(iter(train_loader))\n",
    "    x = data[:10] \n",
    "    x_flat = x.view(-1, 784)\n",
    "    x_hat = vae.reconstruct_img(x_flat)\n",
    "    \n",
    "    x = x.view(-1, 28, 28)   \n",
    "    x_hat = x_hat.view(-1, 28, 28)\n",
    "\n",
    "    fig, axs = plt.subplots(2, 10, figsize=(15, 3))\n",
    "    for i in range(10):\n",
    "        axs[0, i].imshow(x[i].numpy(), cmap='gray')\n",
    "        axs[0, i].axis('off')\n",
    "        \n",
    "        axs[1, i].imshow(x_hat[i].numpy(), cmap='gray')\n",
    "        axs[1, i].axis('off')\n",
    "    \n",
    "    plt.tight_layout()\n",
    "    plt.show()"
   ]
  },
  {
   "cell_type": "code",
   "execution_count": 107,
   "id": "a9851b3a-9f8f-4ba9-875c-998a317ff29a",
   "metadata": {
    "tags": []
   },
   "outputs": [
    {
     "data": {
      "text/plain": [
       "tensor(0.)"
      ]
     },
     "execution_count": 107,
     "metadata": {},
     "output_type": "execute_result"
    }
   ],
   "source": [
    "torch.min(x)"
   ]
  },
  {
   "cell_type": "code",
   "execution_count": null,
   "id": "4b283b0d-0b25-41f1-a0eb-90761c984f18",
   "metadata": {},
   "outputs": [],
   "source": []
  }
 ],
 "metadata": {
  "kernelspec": {
   "display_name": "Python 3 (ipykernel)",
   "language": "python",
   "name": "python3"
  },
  "language_info": {
   "codemirror_mode": {
    "name": "ipython",
    "version": 3
   },
   "file_extension": ".py",
   "mimetype": "text/x-python",
   "name": "python",
   "nbconvert_exporter": "python",
   "pygments_lexer": "ipython3",
   "version": "3.11.7"
  }
 },
 "nbformat": 4,
 "nbformat_minor": 5
}
